{
 "cells": [
  {
   "cell_type": "markdown",
   "id": "811d7948-0b36-46df-9a85-208d948a36a1",
   "metadata": {},
   "source": [
    "## Quantum Machine Learning in HEP using Qibo\n",
    "\n",
    "#### TOC\n",
    "1. A look to Qibo's primitives.\n",
    "2. Defining a parametric quantum circuit.\n",
    "3. Using it as model to fit Parton Distribution Functions."
   ]
  },
  {
   "cell_type": "code",
   "execution_count": 1,
   "id": "ad3d8d7b-ca8c-4d4a-b219-03663cb36edc",
   "metadata": {},
   "outputs": [],
   "source": [
    "import qibo\n",
    "from qibo import Circuit, gates, hamiltonians"
   ]
  },
  {
   "cell_type": "code",
   "execution_count": 5,
   "id": "753abf2b-5768-4ea8-b9a9-5436eb092cc6",
   "metadata": {},
   "outputs": [
    {
     "name": "stderr",
     "output_type": "stream",
     "text": [
      "[Qibo 0.2.9|INFO|2024-06-25 12:16:19]: Using numpy backend on /CPU:0\n",
      "[2024-06-25 12:16:19,559] INFO: Using numpy backend on /CPU:0\n"
     ]
    },
    {
     "data": {
      "text/plain": [
       "{'numpy': True,\n",
       " 'tensorflow': True,\n",
       " 'pytorch': True,\n",
       " 'qibojit': {'numba': True, 'cupy': False, 'cuquantum': False},\n",
       " 'qibolab': False,\n",
       " 'qibo-cloud-backends': False,\n",
       " 'qibotn': {'cutensornet': False, 'qutensornet': False}}"
      ]
     },
     "execution_count": 5,
     "metadata": {},
     "output_type": "execute_result"
    }
   ],
   "source": [
    "# set qibo backend depending on your problem\n",
    "qibo.set_backend(backend=\"numpy\")\n",
    "# if we want to have a look to all the supported backends\n",
    "qibo.list_available_backends()"
   ]
  },
  {
   "cell_type": "code",
   "execution_count": null,
   "id": "0f7ff761-d33f-4ef4-9f90-9aed3b71831b",
   "metadata": {},
   "outputs": [],
   "source": []
  }
 ],
 "metadata": {
  "kernelspec": {
   "display_name": "Python 3 (ipykernel)",
   "language": "python",
   "name": "python3"
  },
  "language_info": {
   "codemirror_mode": {
    "name": "ipython",
    "version": 3
   },
   "file_extension": ".py",
   "mimetype": "text/x-python",
   "name": "python",
   "nbconvert_exporter": "python",
   "pygments_lexer": "ipython3",
   "version": "3.10.0"
  }
 },
 "nbformat": 4,
 "nbformat_minor": 5
}
